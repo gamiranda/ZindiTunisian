{
 "cells": [
  {
   "cell_type": "markdown",
   "id": "64d64153",
   "metadata": {},
   "source": [
    "Best result with Lasso(alpha = 0.0001). RMSE: 6.99776981908721"
   ]
  },
  {
   "cell_type": "code",
   "execution_count": 11,
   "id": "3c508e68",
   "metadata": {},
   "outputs": [],
   "source": [
    "import pandas as pd \n",
    "import numpy as np \n",
    "\n",
    "from sklearn.linear_model import LinearRegression, Ridge, Lasso\n",
    "from sklearn.model_selection import train_test_split\n",
    "from sklearn.metrics import mean_squared_error\n",
    "\n",
    "from sklearn.impute import SimpleImputer\n",
    "\n",
    "import warnings\n",
    "warnings.simplefilter('ignore')"
   ]
  },
  {
   "cell_type": "markdown",
   "id": "b295ead9",
   "metadata": {},
   "source": [
    "# Simple Linear Regression"
   ]
  },
  {
   "cell_type": "markdown",
   "id": "adbc0395",
   "metadata": {},
   "source": [
    "## Train and Validation"
   ]
  },
  {
   "cell_type": "code",
   "execution_count": 4,
   "id": "8b01b3d9",
   "metadata": {},
   "outputs": [
    {
     "name": "stdout",
     "output_type": "stream",
     "text": [
      "RMSE: 7.908460999882217\n"
     ]
    }
   ],
   "source": [
    "df = pd.read_csv(\"SUPCOM_Train.csv\")\n",
    "df.dropna(thresh=df.shape[0]*0.3,how='all',axis=1, inplace = True) #remove de variables with more than 40% of NA values\n",
    "\n",
    "X = df.drop(['target', 'id'], 1)\n",
    "y = df['target']\n",
    "\n",
    "numerical_cols = [cname for cname in X.columns if X[cname].dtype in ['int64', 'float64']]\n",
    "\n",
    "my_cols = numerical_cols\n",
    "\n",
    "X = X[my_cols]\n",
    "\n",
    "Xtrain, Xval, ytrain, yval = train_test_split(X, y, test_size=0.3, random_state=0)\n",
    "\n",
    "imputer = SimpleImputer(strategy='most_frequent')\n",
    "imputer.fit(Xtrain)\n",
    "\n",
    "aux = imputer.transform(Xtrain)\n",
    "Xtrain_pp = pd.DataFrame(aux, columns = Xtrain.columns)\n",
    "\n",
    "aux = imputer.transform(Xval)\n",
    "Xval_pp = pd.DataFrame(aux, columns = Xval.columns)\n",
    "\n",
    "model = LinearRegression()\n",
    "model.fit(Xtrain_pp, ytrain)\n",
    "\n",
    "p = model.predict(Xval_pp)\n",
    "\n",
    "print(f'RMSE: {np.sqrt(mean_squared_error(yval, p))}')"
   ]
  },
  {
   "cell_type": "markdown",
   "id": "cc83554a",
   "metadata": {},
   "source": [
    "## Test and Submission"
   ]
  },
  {
   "cell_type": "code",
   "execution_count": 4,
   "id": "b6bb1f4d",
   "metadata": {},
   "outputs": [],
   "source": [
    "teste = pd.read_csv(\"SUPCOM_Test.csv\")\n",
    "teste = teste[my_cols]\n",
    "\n",
    "imputer = SimpleImputer(strategy='most_frequent')\n",
    "imputer.fit(X)\n",
    "\n",
    "aux = imputer.transform(X)\n",
    "X_pp = pd.DataFrame(aux, columns = X.columns)\n",
    "\n",
    "aux = imputer.transform(teste)\n",
    "teste_pp = pd.DataFrame(aux, columns = teste.columns)\n",
    "\n",
    "model = LinearRegression()\n",
    "model.fit(X_pp, y)\n",
    "\n",
    "p = model.predict(teste_pp)\n",
    "\n",
    "teste = pd.read_csv(\"SUPCOM_Test.csv\")\n",
    "\n",
    "d = {'id': teste['id'], 'target': p} \n",
    "\n",
    "predictions = pd.DataFrame(d)\n",
    "predictions.to_csv(\"submission.csv\", index=False)"
   ]
  },
  {
   "cell_type": "markdown",
   "id": "70703f02",
   "metadata": {},
   "source": [
    "Zindi Result: 7.004399048622439"
   ]
  },
  {
   "cell_type": "markdown",
   "id": "e59f5e6e",
   "metadata": {},
   "source": [
    "# Regularization Tests"
   ]
  },
  {
   "cell_type": "code",
   "execution_count": 21,
   "id": "d0363a78",
   "metadata": {},
   "outputs": [
    {
     "name": "stdout",
     "output_type": "stream",
     "text": [
      "Ridge Regularization\n",
      "Alpha: 0.1 \n",
      " RMSE: 58507.62115039074\n",
      "Alpha: 0.5 \n",
      " RMSE: 11699.37320016342\n",
      "Alpha: 1 \n",
      " RMSE: 5848.365329695088\n",
      "Alpha: 3 \n",
      " RMSE: 1947.8054231714427\n",
      "Alpha: 5 \n",
      " RMSE: 7.651683599375543\n",
      "Alpha: 10 \n",
      " RMSE: 7.649919713276496\n",
      "Alpha: 20 \n",
      " RMSE: 7.650293617537982\n"
     ]
    }
   ],
   "source": [
    "print('Ridge Regularization')\n",
    "\n",
    "df = pd.read_csv(\"SUPCOM_Train.csv\")\n",
    "df.dropna(thresh=df.shape[0]*0.3,how='all',axis=1, inplace = True) #remove de variables with more than 40% of NA values\n",
    "\n",
    "X = df.drop(['target', 'id'], 1)\n",
    "y = df['target']\n",
    "\n",
    "numerical_cols = [cname for cname in X.columns if X[cname].dtype in ['int64', 'float64']]\n",
    "\n",
    "my_cols = numerical_cols\n",
    "\n",
    "X = X[my_cols]\n",
    "\n",
    "Xtrain, Xval, ytrain, yval = train_test_split(X, y, test_size=0.3, random_state=0)\n",
    "\n",
    "imputer = SimpleImputer(strategy='most_frequent')\n",
    "imputer.fit(Xtrain)\n",
    "\n",
    "aux = imputer.transform(Xtrain)\n",
    "Xtrain_pp = pd.DataFrame(aux, columns = Xtrain.columns)\n",
    "\n",
    "aux = imputer.transform(Xval)\n",
    "Xval_pp = pd.DataFrame(aux, columns = Xval.columns)\n",
    "\n",
    "alphas = [0.1, 0.5, 1, 3, 5, 10, 20]\n",
    "for a in alphas:\n",
    "    model = Ridge(alpha = a)\n",
    "    model.fit(Xtrain_pp, ytrain)\n",
    "\n",
    "    p = model.predict(Xval_pp)\n",
    "\n",
    "    print(f'Alpha: {a} \\n RMSE: {np.sqrt(mean_squared_error(yval, p))}')"
   ]
  },
  {
   "cell_type": "code",
   "execution_count": 22,
   "id": "db1bee5f",
   "metadata": {},
   "outputs": [],
   "source": [
    "teste = pd.read_csv(\"SUPCOM_Test.csv\")\n",
    "teste = teste[my_cols]\n",
    "\n",
    "imputer = SimpleImputer(strategy='most_frequent')\n",
    "imputer.fit(X)\n",
    "\n",
    "aux = imputer.transform(X)\n",
    "X_pp = pd.DataFrame(aux, columns = X.columns)\n",
    "\n",
    "aux = imputer.transform(teste)\n",
    "teste_pp = pd.DataFrame(aux, columns = teste.columns)\n",
    "\n",
    "model = Ridge(alpha = 10)\n",
    "model.fit(X_pp, y)\n",
    "\n",
    "p = model.predict(teste_pp)\n",
    "\n",
    "teste = pd.read_csv(\"SUPCOM_Test.csv\")\n",
    "\n",
    "d = {'id': teste['id'], 'target': p} \n",
    "\n",
    "predictions = pd.DataFrame(d)\n",
    "predictions.to_csv(\"submission.csv\", index=False)"
   ]
  },
  {
   "cell_type": "markdown",
   "id": "7e314903",
   "metadata": {},
   "source": [
    "Zindi Result: 829.72325963182"
   ]
  },
  {
   "cell_type": "code",
   "execution_count": 20,
   "id": "88efe4d0",
   "metadata": {},
   "outputs": [
    {
     "name": "stdout",
     "output_type": "stream",
     "text": [
      "Lasso Regularization\n",
      "Alpha: 0.0001 \n",
      " RMSE: 7.465747371894358\n",
      "Alpha: 0.001 \n",
      " RMSE: 7.468711408787674\n",
      "Alpha: 0.01 \n",
      " RMSE: 7.4902725022842\n",
      "Alpha: 0.1 \n",
      " RMSE: 7.527529878998623\n"
     ]
    }
   ],
   "source": [
    "print('Lasso Regularization')\n",
    "\n",
    "df = pd.read_csv(\"SUPCOM_Train.csv\")\n",
    "df.dropna(thresh=df.shape[0]*0.3,how='all',axis=1, inplace = True) #remove de variables with more than 40% of NA values\n",
    "\n",
    "X = df.drop(['target', 'id'], 1)\n",
    "y = df['target']\n",
    "\n",
    "numerical_cols = [cname for cname in X.columns if X[cname].dtype in ['int64', 'float64']]\n",
    "\n",
    "my_cols = numerical_cols\n",
    "\n",
    "X = X[my_cols]\n",
    "\n",
    "Xtrain, Xval, ytrain, yval = train_test_split(X, y, test_size=0.3, random_state=0)\n",
    "\n",
    "imputer = SimpleImputer(strategy='most_frequent')\n",
    "imputer.fit(Xtrain)\n",
    "\n",
    "aux = imputer.transform(Xtrain)\n",
    "Xtrain_pp = pd.DataFrame(aux, columns = Xtrain.columns)\n",
    "\n",
    "aux = imputer.transform(Xval)\n",
    "Xval_pp = pd.DataFrame(aux, columns = Xval.columns)\n",
    "\n",
    "alphas = [0.0001, 0.001, 0.01, 0.1]\n",
    "for a in alphas:\n",
    "    model = Lasso(alpha = a)\n",
    "    model.fit(Xtrain_pp, ytrain)\n",
    "\n",
    "    p = model.predict(Xval_pp)\n",
    "\n",
    "    print(f'Alpha: {a} \\n RMSE: {np.sqrt(mean_squared_error(yval, p))}')"
   ]
  },
  {
   "cell_type": "code",
   "execution_count": 23,
   "id": "f205a65c",
   "metadata": {},
   "outputs": [],
   "source": [
    "teste = pd.read_csv(\"SUPCOM_Test.csv\")\n",
    "teste = teste[my_cols]\n",
    "\n",
    "imputer = SimpleImputer(strategy='most_frequent')\n",
    "imputer.fit(X)\n",
    "\n",
    "aux = imputer.transform(X)\n",
    "X_pp = pd.DataFrame(aux, columns = X.columns)\n",
    "\n",
    "aux = imputer.transform(teste)\n",
    "teste_pp = pd.DataFrame(aux, columns = teste.columns)\n",
    "\n",
    "model = Lasso(alpha = 0.0001)\n",
    "model.fit(X_pp, y)\n",
    "\n",
    "p = model.predict(teste_pp)\n",
    "\n",
    "teste = pd.read_csv(\"SUPCOM_Test.csv\")\n",
    "\n",
    "d = {'id': teste['id'], 'target': p} \n",
    "\n",
    "predictions = pd.DataFrame(d)\n",
    "predictions.to_csv(\"submission.csv\", index=False)"
   ]
  },
  {
   "cell_type": "markdown",
   "id": "d99094df",
   "metadata": {},
   "source": [
    "Zindi Result: 6.99776981908721"
   ]
  }
 ],
 "metadata": {
  "kernelspec": {
   "display_name": "Python 3 (ipykernel)",
   "language": "python",
   "name": "python3"
  },
  "language_info": {
   "codemirror_mode": {
    "name": "ipython",
    "version": 3
   },
   "file_extension": ".py",
   "mimetype": "text/x-python",
   "name": "python",
   "nbconvert_exporter": "python",
   "pygments_lexer": "ipython3",
   "version": "3.9.7"
  },
  "toc": {
   "base_numbering": 1,
   "nav_menu": {},
   "number_sections": true,
   "sideBar": true,
   "skip_h1_title": false,
   "title_cell": "Table of Contents",
   "title_sidebar": "Contents",
   "toc_cell": false,
   "toc_position": {},
   "toc_section_display": true,
   "toc_window_display": false
  }
 },
 "nbformat": 4,
 "nbformat_minor": 5
}
