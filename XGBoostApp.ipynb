{
 "cells": [
  {
   "cell_type": "code",
   "execution_count": 1,
   "id": "0b3da6af",
   "metadata": {},
   "outputs": [],
   "source": [
    "import pandas as pd \n",
    "import numpy as np \n",
    "\n",
    "import xgboost as xgb\n",
    "from sklearn.model_selection import train_test_split\n",
    "from sklearn.metrics import mean_squared_error\n",
    "\n",
    "from sklearn.impute import SimpleImputer\n",
    "\n",
    "import warnings\n",
    "warnings.simplefilter('ignore')"
   ]
  },
  {
   "cell_type": "markdown",
   "id": "18576188",
   "metadata": {},
   "source": [
    "# Train and Validation"
   ]
  },
  {
   "cell_type": "code",
   "execution_count": 2,
   "id": "35d6fb6e",
   "metadata": {},
   "outputs": [
    {
     "name": "stdout",
     "output_type": "stream",
     "text": [
      "RMSE: 6.100930565028387\n"
     ]
    }
   ],
   "source": [
    "df = pd.read_csv(\"SUPCOM_Train.csv\")\n",
    "df.dropna(thresh=df.shape[0]*0.3,how='all',axis=1, inplace = True) #remove de variables with more than 40% of NA values\n",
    "\n",
    "X = df.drop(['target', 'id'], 1)\n",
    "y = df['target']\n",
    "\n",
    "numerical_cols = [cname for cname in X.columns if X[cname].dtype in ['int64', 'float64']]\n",
    "\n",
    "my_cols = numerical_cols\n",
    "\n",
    "X = X[my_cols]\n",
    "\n",
    "Xtrain, Xval, ytrain, yval = train_test_split(X, y, test_size=0.3, random_state=0)\n",
    "\n",
    "imputer = SimpleImputer(strategy='most_frequent')\n",
    "imputer.fit(Xtrain)\n",
    "\n",
    "aux = imputer.transform(Xtrain)\n",
    "Xtrain_pp = pd.DataFrame(aux, columns = Xtrain.columns)\n",
    "\n",
    "aux = imputer.transform(Xval)\n",
    "Xval_pp = pd.DataFrame(aux, columns = Xval.columns)\n",
    "\n",
    "model = xgb.XGBRegressor()\n",
    "model.fit(Xtrain_pp, ytrain)\n",
    "\n",
    "p = model.predict(Xval_pp)\n",
    "\n",
    "print(f'RMSE: {np.sqrt(mean_squared_error(yval, p))}')"
   ]
  },
  {
   "cell_type": "markdown",
   "id": "c22d5652",
   "metadata": {},
   "source": [
    "# Test and Submission"
   ]
  },
  {
   "cell_type": "code",
   "execution_count": 3,
   "id": "3b746a81",
   "metadata": {},
   "outputs": [],
   "source": [
    "teste = pd.read_csv(\"SUPCOM_Test.csv\")\n",
    "teste = teste[my_cols]\n",
    "\n",
    "imputer = SimpleImputer(strategy='most_frequent')\n",
    "imputer.fit(X)\n",
    "\n",
    "aux = imputer.transform(X)\n",
    "X_pp = pd.DataFrame(aux, columns = X.columns)\n",
    "\n",
    "aux = imputer.transform(teste)\n",
    "teste_pp = pd.DataFrame(aux, columns = teste.columns)\n",
    "\n",
    "model = xgb.XGBRegressor()\n",
    "model.fit(X_pp, y)\n",
    "\n",
    "p = model.predict(teste_pp)\n",
    "\n",
    "teste = pd.read_csv(\"SUPCOM_Test.csv\")\n",
    "\n",
    "d = {'id': teste['id'], 'target': p} \n",
    "\n",
    "predictions = pd.DataFrame(d)\n",
    "predictions.to_csv(\"submission.csv\", index=False)"
   ]
  },
  {
   "cell_type": "markdown",
   "id": "f252ea9e",
   "metadata": {},
   "source": [
    "Zindi Result: 5.800272506813535"
   ]
  },
  {
   "cell_type": "markdown",
   "id": "575db7db",
   "metadata": {},
   "source": [
    "# RandomizedSearchCV to Select the Best Hyperparameters"
   ]
  },
  {
   "cell_type": "code",
   "execution_count": 6,
   "id": "9e04f173",
   "metadata": {},
   "outputs": [],
   "source": [
    "from sklearn.model_selection import RandomizedSearchCV\n",
    "\n",
    "learning_rate = [0.05,0.10,0.15,0.20,0.25,0.30]\n",
    "max_depth = [ 3, 4, 5, 6, 8, 10, 12, 15]\n",
    "min_child_weight = [ 1, 3, 5, 7 ]\n",
    "gamma = [ 0.0, 0.1, 0.2 , 0.3, 0.4 ]\n",
    "colsample_bytree = [ 0.3, 0.4, 0.5 , 0.7 ]\n",
    "\n",
    "# Create the random grid\n",
    "random_grid = {'learning_rate': learning_rate,\n",
    "               'max_depth': max_depth,\n",
    "               'min_child_weight': min_child_weight,\n",
    "               'gamma': gamma,\n",
    "               'colsample_bytree': colsample_bytree}"
   ]
  },
  {
   "cell_type": "code",
   "execution_count": 7,
   "id": "ec74a705",
   "metadata": {},
   "outputs": [
    {
     "name": "stdout",
     "output_type": "stream",
     "text": [
      "Fitting 3 folds for each of 100 candidates, totalling 300 fits\n"
     ]
    },
    {
     "data": {
      "text/plain": [
       "{'min_child_weight': 1,\n",
       " 'max_depth': 15,\n",
       " 'learning_rate': 0.05,\n",
       " 'gamma': 0.3,\n",
       " 'colsample_bytree': 0.7}"
      ]
     },
     "execution_count": 7,
     "metadata": {},
     "output_type": "execute_result"
    }
   ],
   "source": [
    "df = pd.read_csv(\"SUPCOM_Train.csv\")\n",
    "df.dropna(thresh=df.shape[0]*0.3,how='all',axis=1, inplace = True) #remove de variables with more than 40% of NA values\n",
    "\n",
    "X = df.drop(['target', 'id'], 1)\n",
    "y = df['target']\n",
    "\n",
    "numerical_cols = [cname for cname in X.columns if X[cname].dtype in ['int64', 'float64']]\n",
    "\n",
    "my_cols = numerical_cols\n",
    "\n",
    "X = X[my_cols]\n",
    "\n",
    "Xtrain, Xval, ytrain, yval = train_test_split(X, y, test_size=0.3, random_state=0)\n",
    "\n",
    "imputer = SimpleImputer(strategy='most_frequent')\n",
    "imputer.fit(Xtrain)\n",
    "\n",
    "aux = imputer.transform(Xtrain)\n",
    "Xtrain_pp = pd.DataFrame(aux, columns = Xtrain.columns)\n",
    "\n",
    "aux = imputer.transform(Xval)\n",
    "Xval_pp = pd.DataFrame(aux, columns = Xval.columns)\n",
    "\n",
    "# Use the random grid to search for best hyperparameters\n",
    "# First create the base model to tune\n",
    "xbg_model = xgb.XGBRegressor()\n",
    "# Random search of parameters, using 3 fold cross validation, \n",
    "# search across 100 different combinations, and use all available cores\n",
    "xbg_random = RandomizedSearchCV(estimator = xbg_model, param_distributions = random_grid, \n",
    "                               n_iter = 100, cv = 3, verbose=2, random_state=42, n_jobs = -1)\n",
    "# Fit the random search model\n",
    "xbg_random.fit(Xtrain_pp, ytrain)\n",
    "\n",
    "xbg_random.best_params_"
   ]
  },
  {
   "cell_type": "code",
   "execution_count": 8,
   "id": "43d434f1",
   "metadata": {},
   "outputs": [],
   "source": [
    "teste = pd.read_csv(\"SUPCOM_Test.csv\")\n",
    "teste = teste[my_cols]\n",
    "\n",
    "imputer = SimpleImputer(strategy='most_frequent')\n",
    "imputer.fit(X)\n",
    "\n",
    "aux = imputer.transform(X)\n",
    "X_pp = pd.DataFrame(aux, columns = X.columns)\n",
    "\n",
    "aux = imputer.transform(teste)\n",
    "teste_pp = pd.DataFrame(aux, columns = teste.columns)\n",
    "\n",
    "model = xgb.XGBRegressor(min_child_weight = 1, max_depth = 15, learning_rate = 0.05, \n",
    "                              gamma = 0.3, colsample_bytree = 0.7)\n",
    "model.fit(X_pp, y)\n",
    "\n",
    "p = model.predict(teste_pp)\n",
    "\n",
    "teste = pd.read_csv(\"SUPCOM_Test.csv\")\n",
    "\n",
    "d = {'id': teste['id'], 'target': p} \n",
    "\n",
    "predictions = pd.DataFrame(d)\n",
    "predictions.to_csv(\"submission.csv\", index=False)"
   ]
  },
  {
   "cell_type": "markdown",
   "id": "7ee383e5",
   "metadata": {},
   "source": [
    "Zindi Result: 5.578911719930432"
   ]
  }
 ],
 "metadata": {
  "kernelspec": {
   "display_name": "Python 3 (ipykernel)",
   "language": "python",
   "name": "python3"
  },
  "language_info": {
   "codemirror_mode": {
    "name": "ipython",
    "version": 3
   },
   "file_extension": ".py",
   "mimetype": "text/x-python",
   "name": "python",
   "nbconvert_exporter": "python",
   "pygments_lexer": "ipython3",
   "version": "3.9.7"
  },
  "toc": {
   "base_numbering": 1,
   "nav_menu": {},
   "number_sections": true,
   "sideBar": true,
   "skip_h1_title": false,
   "title_cell": "Table of Contents",
   "title_sidebar": "Contents",
   "toc_cell": false,
   "toc_position": {},
   "toc_section_display": true,
   "toc_window_display": false
  }
 },
 "nbformat": 4,
 "nbformat_minor": 5
}
