{
 "cells": [
  {
   "cell_type": "code",
   "execution_count": 1,
   "id": "d8314dbe",
   "metadata": {},
   "outputs": [],
   "source": [
    "import pandas as pd \n",
    "import numpy as np \n",
    "\n",
    "from sklearn.neighbors import KNeighborsRegressor\n",
    "from sklearn.model_selection import train_test_split\n",
    "from sklearn.metrics import mean_squared_error\n",
    "\n",
    "from sklearn.impute import SimpleImputer\n",
    "\n",
    "import warnings\n",
    "warnings.simplefilter('ignore')"
   ]
  },
  {
   "cell_type": "markdown",
   "id": "7b16851f",
   "metadata": {},
   "source": [
    "# Train and Validation"
   ]
  },
  {
   "cell_type": "code",
   "execution_count": 2,
   "id": "1685f58f",
   "metadata": {},
   "outputs": [
    {
     "name": "stdout",
     "output_type": "stream",
     "text": [
      "RMSE: 7.06908912918437\n"
     ]
    }
   ],
   "source": [
    "df = pd.read_csv(\"SUPCOM_Train.csv\")\n",
    "df.dropna(thresh=df.shape[0]*0.3,how='all',axis=1, inplace = True) #remove de variables with more than 30% of NA values\n",
    "\n",
    "X = df.drop(['target', 'id'], 1)\n",
    "y = df['target']\n",
    "\n",
    "numerical_cols = [cname for cname in X.columns if X[cname].dtype in ['int64', 'float64']]\n",
    "\n",
    "my_cols = numerical_cols\n",
    "\n",
    "X = X[my_cols]\n",
    "\n",
    "Xtrain, Xval, ytrain, yval = train_test_split(X, y, test_size=0.3, random_state=0)\n",
    "\n",
    "imputer = SimpleImputer(strategy='most_frequent')\n",
    "imputer.fit(Xtrain)\n",
    "\n",
    "aux = imputer.transform(Xtrain)\n",
    "Xtrain_pp = pd.DataFrame(aux, columns = Xtrain.columns)\n",
    "\n",
    "aux = imputer.transform(Xval)\n",
    "Xval_pp = pd.DataFrame(aux, columns = Xval.columns)\n",
    "\n",
    "model = KNeighborsRegressor()\n",
    "model.fit(Xtrain_pp, ytrain)\n",
    "\n",
    "p = model.predict(Xval_pp)\n",
    "\n",
    "print(f'RMSE: {np.sqrt(mean_squared_error(yval, p))}')"
   ]
  },
  {
   "cell_type": "markdown",
   "id": "9c6cf7fa",
   "metadata": {},
   "source": [
    "# Test and Submission"
   ]
  },
  {
   "cell_type": "code",
   "execution_count": 4,
   "id": "bd920559",
   "metadata": {},
   "outputs": [],
   "source": [
    "teste = pd.read_csv(\"SUPCOM_Test.csv\")\n",
    "teste = teste[my_cols]\n",
    "\n",
    "imputer = SimpleImputer(strategy='most_frequent')\n",
    "imputer.fit(X)\n",
    "\n",
    "aux = imputer.transform(X)\n",
    "X_pp = pd.DataFrame(aux, columns = X.columns)\n",
    "\n",
    "aux = imputer.transform(teste)\n",
    "teste_pp = pd.DataFrame(aux, columns = teste.columns)\n",
    "\n",
    "model = KNeighborsRegressor()\n",
    "model.fit(X_pp, y)\n",
    "\n",
    "p = model.predict(teste_pp)\n",
    "\n",
    "teste = pd.read_csv(\"SUPCOM_Test.csv\")\n",
    "\n",
    "d = {'id': teste['id'], 'target': p} \n",
    "\n",
    "predictions = pd.DataFrame(d)\n",
    "predictions.to_csv(\"submission.csv\", index=False)"
   ]
  },
  {
   "cell_type": "markdown",
   "id": "8db554c9",
   "metadata": {},
   "source": [
    "Zindi Result: 5.774962714978422"
   ]
  },
  {
   "cell_type": "markdown",
   "id": "d94292bd",
   "metadata": {},
   "source": [
    "# RandomizedSearchCV to Select the Best Hyperparameters"
   ]
  },
  {
   "cell_type": "code",
   "execution_count": 12,
   "id": "38a4f413",
   "metadata": {},
   "outputs": [],
   "source": [
    "from sklearn.model_selection import RandomizedSearchCV\n",
    "\n",
    "n_neighbors = [14, 17, 20, 24, 27, 30, 33, 36]\n",
    "weights = [ 'uniform', 'distance']\n",
    "algorithm = [ 'auto', 'ball_tree', 'kd_tree', 'brute']\n",
    "\n",
    "# Create the random grid\n",
    "random_grid = {'n_neighbors': n_neighbors,\n",
    "               'weights': weights,\n",
    "               'algorithm' : algorithm}\n"
   ]
  },
  {
   "cell_type": "code",
   "execution_count": 13,
   "id": "5d5f7192",
   "metadata": {},
   "outputs": [
    {
     "name": "stdout",
     "output_type": "stream",
     "text": [
      "Fitting 3 folds for each of 64 candidates, totalling 192 fits\n"
     ]
    },
    {
     "data": {
      "text/plain": [
       "{'weights': 'distance', 'n_neighbors': 33, 'algorithm': 'auto'}"
      ]
     },
     "execution_count": 13,
     "metadata": {},
     "output_type": "execute_result"
    }
   ],
   "source": [
    "df = pd.read_csv(\"SUPCOM_Train.csv\")\n",
    "df.dropna(thresh=df.shape[0]*0.3,how='all',axis=1, inplace = True) #remove de variables with more than 40% of NA values\n",
    "\n",
    "X = df.drop(['target', 'id'], 1)\n",
    "y = df['target']\n",
    "\n",
    "numerical_cols = [cname for cname in X.columns if X[cname].dtype in ['int64', 'float64']]\n",
    "\n",
    "my_cols = numerical_cols\n",
    "\n",
    "X = X[my_cols]\n",
    "\n",
    "Xtrain, Xval, ytrain, yval = train_test_split(X, y, test_size=0.3, random_state=0)\n",
    "\n",
    "imputer = SimpleImputer(strategy='most_frequent')\n",
    "imputer.fit(Xtrain)\n",
    "\n",
    "aux = imputer.transform(Xtrain)\n",
    "Xtrain_pp = pd.DataFrame(aux, columns = Xtrain.columns)\n",
    "\n",
    "aux = imputer.transform(Xval)\n",
    "Xval_pp = pd.DataFrame(aux, columns = Xval.columns)\n",
    "\n",
    "# Use the random grid to search for best hyperparameters\n",
    "# First create the base model to tune\n",
    "knn_model = KNeighborsRegressor()\n",
    "# Random search of parameters, using 3 fold cross validation, \n",
    "# search across 100 different combinations, and use all available cores\n",
    "knn_random = RandomizedSearchCV(estimator = knn_model, param_distributions = random_grid, \n",
    "                               n_iter = 100, cv = 3, verbose=2, random_state=42, n_jobs = -1)\n",
    "# Fit the random search model\n",
    "knn_random.fit(Xtrain_pp, ytrain)\n",
    "\n",
    "knn_random.best_params_"
   ]
  },
  {
   "cell_type": "code",
   "execution_count": 17,
   "id": "4f1e54df",
   "metadata": {},
   "outputs": [],
   "source": [
    "teste = pd.read_csv(\"SUPCOM_Test.csv\")\n",
    "teste = teste[my_cols]\n",
    "\n",
    "imputer = SimpleImputer(strategy='most_frequent')\n",
    "imputer.fit(X)\n",
    "\n",
    "aux = imputer.transform(X)\n",
    "X_pp = pd.DataFrame(aux, columns = X.columns)\n",
    "\n",
    "aux = imputer.transform(teste)\n",
    "teste_pp = pd.DataFrame(aux, columns = teste.columns)\n",
    "\n",
    "model = KNeighborsRegressor(weights = 'distance', n_neighbors = 33, algorithm = 'auto')\n",
    "model.fit(X_pp, y)\n",
    "\n",
    "p = model.predict(teste_pp)\n",
    "\n",
    "teste = pd.read_csv(\"SUPCOM_Test.csv\")\n",
    "\n",
    "d = {'id': teste['id'], 'target': p} \n",
    "\n",
    "predictions = pd.DataFrame(d)\n",
    "predictions.to_csv(\"submission.csv\", index=False)"
   ]
  },
  {
   "cell_type": "markdown",
   "id": "686dfa4c",
   "metadata": {},
   "source": [
    "Zindi Result: 5.651883353585753"
   ]
  }
 ],
 "metadata": {
  "kernelspec": {
   "display_name": "Python 3 (ipykernel)",
   "language": "python",
   "name": "python3"
  },
  "language_info": {
   "codemirror_mode": {
    "name": "ipython",
    "version": 3
   },
   "file_extension": ".py",
   "mimetype": "text/x-python",
   "name": "python",
   "nbconvert_exporter": "python",
   "pygments_lexer": "ipython3",
   "version": "3.9.7"
  },
  "toc": {
   "base_numbering": 1,
   "nav_menu": {},
   "number_sections": true,
   "sideBar": true,
   "skip_h1_title": false,
   "title_cell": "Table of Contents",
   "title_sidebar": "Contents",
   "toc_cell": false,
   "toc_position": {},
   "toc_section_display": true,
   "toc_window_display": false
  }
 },
 "nbformat": 4,
 "nbformat_minor": 5
}
