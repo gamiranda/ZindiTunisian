{
 "cells": [
  {
   "cell_type": "code",
   "execution_count": 1,
   "id": "2a3956ce",
   "metadata": {},
   "outputs": [],
   "source": [
    "import pandas as pd \n",
    "import numpy as np \n",
    "\n",
    "from sklearn.ensemble import RandomForestRegressor\n",
    "from sklearn.model_selection import train_test_split\n",
    "from sklearn.metrics import mean_squared_error\n",
    "\n",
    "from sklearn.impute import SimpleImputer\n",
    "\n",
    "import warnings\n",
    "warnings.simplefilter('ignore')"
   ]
  },
  {
   "cell_type": "markdown",
   "id": "f9af8b11",
   "metadata": {},
   "source": [
    "# Train and Validation"
   ]
  },
  {
   "cell_type": "code",
   "execution_count": 2,
   "id": "ae1510f6",
   "metadata": {},
   "outputs": [
    {
     "name": "stderr",
     "output_type": "stream",
     "text": [
      "C:\\Users\\Usuario\\AppData\\Local\\Temp/ipykernel_21300/64573589.py:4: FutureWarning: In a future version of pandas all arguments of DataFrame.drop except for the argument 'labels' will be keyword-only\n",
      "  X = df.drop(['target', 'id'], 1)\n"
     ]
    },
    {
     "name": "stdout",
     "output_type": "stream",
     "text": [
      "RMSE: 5.938993135209518\n"
     ]
    }
   ],
   "source": [
    "df = pd.read_csv(\"SUPCOM_Train.csv\")\n",
    "df.dropna(thresh=df.shape[0]*0.3,how='all',axis=1, inplace = True) #remove de variables with more than 40% of NA values\n",
    "\n",
    "X = df.drop(['target', 'id'], 1)\n",
    "y = df['target']\n",
    "\n",
    "numerical_cols = [cname for cname in X.columns if X[cname].dtype in ['int64', 'float64']]\n",
    "\n",
    "my_cols = numerical_cols\n",
    "\n",
    "X = X[my_cols]\n",
    "\n",
    "Xtrain, Xval, ytrain, yval = train_test_split(X, y, test_size=0.3, random_state=0)\n",
    "\n",
    "imputer = SimpleImputer(strategy='most_frequent')\n",
    "imputer.fit(Xtrain)\n",
    "\n",
    "aux = imputer.transform(Xtrain)\n",
    "Xtrain_pp = pd.DataFrame(aux, columns = Xtrain.columns)\n",
    "\n",
    "aux = imputer.transform(Xval)\n",
    "Xval_pp = pd.DataFrame(aux, columns = Xval.columns)\n",
    "\n",
    "model = RandomForestRegressor()\n",
    "model.fit(Xtrain_pp, ytrain)\n",
    "\n",
    "p = model.predict(Xval_pp)\n",
    "\n",
    "print(f'RMSE: {np.sqrt(mean_squared_error(yval, p))}')"
   ]
  },
  {
   "cell_type": "markdown",
   "id": "1644002c",
   "metadata": {},
   "source": [
    "# Test and Submission"
   ]
  },
  {
   "cell_type": "code",
   "execution_count": 4,
   "id": "8ff6c8ac",
   "metadata": {},
   "outputs": [],
   "source": [
    "teste = pd.read_csv(\"SUPCOM_Test.csv\")\n",
    "teste = teste[my_cols]\n",
    "\n",
    "imputer = SimpleImputer(strategy='most_frequent')\n",
    "imputer.fit(X)\n",
    "\n",
    "aux = imputer.transform(X)\n",
    "X_pp = pd.DataFrame(aux, columns = X.columns)\n",
    "\n",
    "aux = imputer.transform(teste)\n",
    "teste_pp = pd.DataFrame(aux, columns = teste.columns)\n",
    "\n",
    "model = RandomForestRegressor()\n",
    "model.fit(X_pp, y)\n",
    "\n",
    "p = model.predict(teste_pp)\n",
    "\n",
    "teste = pd.read_csv(\"SUPCOM_Test.csv\")\n",
    "\n",
    "d = {'id': teste['id'], 'target': p} \n",
    "\n",
    "predictions = pd.DataFrame(d)\n",
    "predictions.to_csv(\"submission.csv\", index=False)"
   ]
  },
  {
   "cell_type": "markdown",
   "id": "38fecb10",
   "metadata": {},
   "source": [
    "Zindi Result: 5.640048260938344"
   ]
  },
  {
   "cell_type": "markdown",
   "id": "f3f1a31a",
   "metadata": {},
   "source": [
    "# RandomizedSearchCV to Select the Best Hyperparameters"
   ]
  },
  {
   "cell_type": "code",
   "execution_count": 2,
   "id": "b1826cce",
   "metadata": {},
   "outputs": [],
   "source": [
    "from sklearn.model_selection import RandomizedSearchCV\n",
    "# Number of trees in random forest\n",
    "n_estimators = [int(x) for x in np.linspace(start = 200, stop = 2000, num = 10)]\n",
    "# Number of features to consider at every split\n",
    "max_features = ['auto', 'sqrt']\n",
    "# Maximum number of levels in tree\n",
    "max_depth = [int(x) for x in np.linspace(10, 110, num = 11)]\n",
    "max_depth.append(None)\n",
    "# Minimum number of samples required to split a node\n",
    "min_samples_split = [2, 5, 10]\n",
    "# Minimum number of samples required at each leaf node\n",
    "min_samples_leaf = [1, 2, 4]\n",
    "# Method of selecting samples for training each tree\n",
    "bootstrap = [True, False]\n",
    "\n",
    "# Create the random grid\n",
    "random_grid = {'n_estimators': n_estimators,\n",
    "               'max_features': max_features,\n",
    "               'max_depth': max_depth,\n",
    "               'min_samples_split': min_samples_split,\n",
    "               'min_samples_leaf': min_samples_leaf,\n",
    "               'bootstrap': bootstrap}"
   ]
  },
  {
   "cell_type": "code",
   "execution_count": 3,
   "id": "374a3c61",
   "metadata": {},
   "outputs": [
    {
     "name": "stderr",
     "output_type": "stream",
     "text": [
      "C:\\Users\\Usuario\\AppData\\Local\\Temp/ipykernel_3936/4193268700.py:4: FutureWarning: In a future version of pandas all arguments of DataFrame.drop except for the argument 'labels' will be keyword-only\n",
      "  X = df.drop(['target', 'id'], 1)\n"
     ]
    },
    {
     "name": "stdout",
     "output_type": "stream",
     "text": [
      "Fitting 3 folds for each of 100 candidates, totalling 300 fits\n"
     ]
    },
    {
     "data": {
      "text/plain": [
       "{'n_estimators': 400,\n",
       " 'min_samples_split': 2,\n",
       " 'min_samples_leaf': 1,\n",
       " 'max_features': 'sqrt',\n",
       " 'max_depth': None,\n",
       " 'bootstrap': False}"
      ]
     },
     "execution_count": 3,
     "metadata": {},
     "output_type": "execute_result"
    }
   ],
   "source": [
    "df = pd.read_csv(\"SUPCOM_Train.csv\")\n",
    "df.dropna(thresh=df.shape[0]*0.3,how='all',axis=1, inplace = True) #remove de variables with more than 40% of NA values\n",
    "\n",
    "X = df.drop(['target', 'id'], 1)\n",
    "y = df['target']\n",
    "\n",
    "numerical_cols = [cname for cname in X.columns if X[cname].dtype in ['int64', 'float64']]\n",
    "\n",
    "my_cols = numerical_cols\n",
    "\n",
    "X = X[my_cols]\n",
    "\n",
    "Xtrain, Xval, ytrain, yval = train_test_split(X, y, test_size=0.3, random_state=0)\n",
    "\n",
    "imputer = SimpleImputer(strategy='most_frequent')\n",
    "imputer.fit(Xtrain)\n",
    "\n",
    "aux = imputer.transform(Xtrain)\n",
    "Xtrain_pp = pd.DataFrame(aux, columns = Xtrain.columns)\n",
    "\n",
    "aux = imputer.transform(Xval)\n",
    "Xval_pp = pd.DataFrame(aux, columns = Xval.columns)\n",
    "\n",
    "# Use the random grid to search for best hyperparameters\n",
    "# First create the base model to tune\n",
    "rf = RandomForestRegressor()\n",
    "# Random search of parameters, using 3 fold cross validation, \n",
    "# search across 100 different combinations, and use all available cores\n",
    "rf_random = RandomizedSearchCV(estimator = rf, param_distributions = random_grid, n_iter = 100, cv = 3, verbose=2, random_state=42, n_jobs = -1)\n",
    "# Fit the random search model\n",
    "rf_random.fit(Xtrain_pp, ytrain)\n",
    "\n",
    "rf_random.best_params_"
   ]
  },
  {
   "cell_type": "code",
   "execution_count": 4,
   "id": "9ed03a6f",
   "metadata": {},
   "outputs": [],
   "source": [
    "teste = pd.read_csv(\"SUPCOM_Test.csv\")\n",
    "teste = teste[my_cols]\n",
    "\n",
    "imputer = SimpleImputer(strategy='most_frequent')\n",
    "imputer.fit(X)\n",
    "\n",
    "aux = imputer.transform(X)\n",
    "X_pp = pd.DataFrame(aux, columns = X.columns)\n",
    "\n",
    "aux = imputer.transform(teste)\n",
    "teste_pp = pd.DataFrame(aux, columns = teste.columns)\n",
    "\n",
    "model = RandomForestRegressor(n_estimators=400, min_samples_split=2, min_samples_leaf=1, \n",
    "                              max_features='sqrt', max_depth=None, bootstrap=False)\n",
    "model.fit(X_pp, y)\n",
    "\n",
    "p = model.predict(teste_pp)\n",
    "\n",
    "teste = pd.read_csv(\"SUPCOM_Test.csv\")\n",
    "\n",
    "d = {'id': teste['id'], 'target': p} \n",
    "\n",
    "predictions = pd.DataFrame(d)\n",
    "predictions.to_csv(\"submission.csv\", index=False)"
   ]
  },
  {
   "cell_type": "markdown",
   "id": "58386a39",
   "metadata": {},
   "source": [
    "Zindi Result: 5.607478488705707"
   ]
  }
 ],
 "metadata": {
  "kernelspec": {
   "display_name": "Python 3 (ipykernel)",
   "language": "python",
   "name": "python3"
  },
  "language_info": {
   "codemirror_mode": {
    "name": "ipython",
    "version": 3
   },
   "file_extension": ".py",
   "mimetype": "text/x-python",
   "name": "python",
   "nbconvert_exporter": "python",
   "pygments_lexer": "ipython3",
   "version": "3.9.7"
  },
  "toc": {
   "base_numbering": 1,
   "nav_menu": {},
   "number_sections": true,
   "sideBar": true,
   "skip_h1_title": false,
   "title_cell": "Table of Contents",
   "title_sidebar": "Contents",
   "toc_cell": false,
   "toc_position": {},
   "toc_section_display": true,
   "toc_window_display": false
  }
 },
 "nbformat": 4,
 "nbformat_minor": 5
}
