{
 "cells": [
  {
   "cell_type": "code",
   "execution_count": 1,
   "id": "d8314dbe",
   "metadata": {},
   "outputs": [],
   "source": [
    "import pandas as pd \n",
    "import numpy as np \n",
    "\n",
    "from sklearn.linear_model import Lasso\n",
    "from sklearn.ensemble import RandomForestRegressor, GradientBoostingRegressor\n",
    "import xgboost as xgb\n",
    "import lightgbm as lgb\n",
    "from sklearn.neighbors import KNeighborsRegressor\n",
    "\n",
    "from sklearn.model_selection import train_test_split\n",
    "from sklearn.metrics import mean_squared_error\n",
    "\n",
    "from sklearn.ensemble import StackingRegressor\n",
    "\n",
    "from sklearn.impute import SimpleImputer\n",
    "\n",
    "import warnings\n",
    "warnings.simplefilter('ignore')"
   ]
  },
  {
   "cell_type": "code",
   "execution_count": 3,
   "id": "e1220a26",
   "metadata": {},
   "outputs": [
    {
     "name": "stdout",
     "output_type": "stream",
     "text": [
      "Wall time: 1h 24min 25s\n"
     ]
    }
   ],
   "source": [
    "%%time\n",
    "\n",
    "df = pd.read_csv(\"SUPCOM_Train.csv\")\n",
    "df.dropna(thresh=df.shape[0]*0.3,how='all',axis=1, inplace = True) #remove de variables with more than 30% of NA values\n",
    "\n",
    "X = df.drop(['target', 'id'], 1)\n",
    "y = df['target']\n",
    "\n",
    "my_cols = [cname for cname in X.columns if X[cname].dtype in ['int64', 'float64']]\n",
    "\n",
    "X = X[my_cols]\n",
    "\n",
    "imputer = SimpleImputer(strategy='most_frequent')\n",
    "imputer.fit(X)\n",
    "\n",
    "teste = pd.read_csv(\"SUPCOM_Test.csv\")\n",
    "teste = teste[my_cols]\n",
    "\n",
    "imputer = SimpleImputer(strategy='most_frequent')\n",
    "imputer.fit(X)\n",
    "\n",
    "aux = imputer.transform(X)\n",
    "X_pp = pd.DataFrame(aux, columns = X.columns)\n",
    "\n",
    "aux = imputer.transform(teste)\n",
    "teste_pp = pd.DataFrame(aux, columns = teste.columns)\n",
    "\n",
    "# estimators = [('lasso', Lasso(alpha = 0.0001)),\n",
    "              \n",
    "#               ('rf', RandomForestRegressor(n_estimators=400, min_samples_split=2, \n",
    "#                                            min_samples_leaf=1, max_features='sqrt', \n",
    "#                                            max_depth=None, bootstrap=False)),\n",
    "              \n",
    "#               ('xgb', xgb.XGBRegressor(min_child_weight = 1, max_depth = 15, \n",
    "#                                        learning_rate = 0.05, gamma = 0.3, \n",
    "#                                        colsample_bytree = 0.7)),\n",
    "              \n",
    "#               ('lgbm', lgb.LGBMRegressor(num_leaves = 2620, min_split_gain = 0.15, \n",
    "#                                          max_depth = 15, learning_rate = 0.1, \n",
    "#                                          lambda_l2 = 20, lambda_l1 = 10, \n",
    "#                                          colsample_bytree = 0.5, boosting_type = 'gbdt')),\n",
    "              \n",
    "#               ('knn', KNeighborsRegressor(weights = 'distance', n_neighbors = 33, \n",
    "#                                           algorithm = 'auto'))]\n",
    "\n",
    "estimators = [('rf', RandomForestRegressor(n_estimators = 200,\n",
    "                                         min_samples_split = 6,\n",
    "                                         min_impurity_decrease = 0.0,\n",
    "                                         max_features = 'sqrt',\n",
    "                                         max_depth = 25,\n",
    "                                         criterion = 'mae',\n",
    "                                         bootstrap = True,\n",
    "                                         random_state = 0)),\n",
    "              ('xgb', xgb.XGBRegressor(tree_method = 'exact',\n",
    "                                     objective = 'reg:squarederror',\n",
    "                                     n_estimators = 1600,\n",
    "                                     min_child_weight = 6,\n",
    "                                     max_depth = 8,\n",
    "                                     gamma = 0,\n",
    "                                     eta = 0.1,\n",
    "                                     random_state = 0))]\n",
    "\n",
    "model = StackingRegressor(estimators = estimators, final_estimator = GradientBoostingRegressor(random_state=0))\n",
    "model.fit(X_pp, y)\n",
    "\n",
    "p = model.predict(teste_pp)\n",
    "\n",
    "teste = pd.read_csv(\"SUPCOM_Test.csv\")\n",
    "\n",
    "d = {'id': teste['id'], 'target': p} \n",
    "\n",
    "predictions = pd.DataFrame(d)\n",
    "predictions.to_csv(\"submission.csv\", index=False)"
   ]
  },
  {
   "cell_type": "markdown",
   "id": "686dfa4c",
   "metadata": {},
   "source": [
    "Zindi Result: 5.517257859158874"
   ]
  },
  {
   "cell_type": "code",
   "execution_count": null,
   "id": "8b5ecc4b",
   "metadata": {},
   "outputs": [],
   "source": []
  }
 ],
 "metadata": {
  "kernelspec": {
   "display_name": "Python 3 (ipykernel)",
   "language": "python",
   "name": "python3"
  },
  "language_info": {
   "codemirror_mode": {
    "name": "ipython",
    "version": 3
   },
   "file_extension": ".py",
   "mimetype": "text/x-python",
   "name": "python",
   "nbconvert_exporter": "python",
   "pygments_lexer": "ipython3",
   "version": "3.9.7"
  },
  "toc": {
   "base_numbering": 1,
   "nav_menu": {},
   "number_sections": true,
   "sideBar": true,
   "skip_h1_title": false,
   "title_cell": "Table of Contents",
   "title_sidebar": "Contents",
   "toc_cell": false,
   "toc_position": {},
   "toc_section_display": true,
   "toc_window_display": false
  }
 },
 "nbformat": 4,
 "nbformat_minor": 5
}
